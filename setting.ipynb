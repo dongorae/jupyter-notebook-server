{
 "cells": [
  {
   "cell_type": "code",
   "execution_count": null,
   "metadata": {},
   "outputs": [],
   "source": [
    "from notebook.auth import passwd"
   ]
  },
  {
   "cell_type": "code",
   "execution_count": null,
   "metadata": {},
   "outputs": [],
   "source": [
    "# 주피터 서버에 접속할 비밀번호 설정\n",
    "passwd = \"your_password\"\n",
    "passwd_encrypted = passwd(passwd)"
   ]
  },
  {
   "cell_type": "code",
   "execution_count": null,
   "metadata": {},
   "outputs": [],
   "source": [
    "jupyter_config = f\"\"\"\n",
    "c = get_config()\n",
    "c.NotebookApp.ip = '0.0.0.0' # 모든 ip에서 접속 허용\n",
    "c.NotebookApp.password = u'{passwd_encrypted}'\n",
    "c.NotebookApp.open_browser = False\n",
    "c.NotebookApp.port = 8888\n",
    "\"\"\"\n",
    "with open(\"jupyter_notebook_config.py\", \"w\") as f:\n",
    "    f.write(jupyter_config)\n"
   ]
  }
 ],
 "metadata": {
  "language_info": {
   "name": "python"
  },
  "orig_nbformat": 4
 },
 "nbformat": 4,
 "nbformat_minor": 2
}
